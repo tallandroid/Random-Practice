{
 "cells": [
  {
   "cell_type": "markdown",
   "metadata": {},
   "source": [
    "### Sort a binary array in linear time complexity"
   ]
  },
  {
   "cell_type": "code",
   "execution_count": 44,
   "metadata": {},
   "outputs": [],
   "source": [
    "def sort_binary(arr):\n",
    "    left = 0\n",
    "    right = len(arr)-1\n",
    "    while(left < right):\n",
    "        while(arr[left] == 0):\n",
    "            left+=1\n",
    "            print(left)\n",
    "        while(arr[right] == 1): \n",
    "            right-=1\n",
    "            print(right)\n",
    "        temp = arr[left]\n",
    "        arr[left] = arr[right]\n",
    "        arr[right] = temp\n",
    "        left+=1\n",
    "        right-=1\n",
    "    return arr"
   ]
  },
  {
   "cell_type": "code",
   "execution_count": 48,
   "metadata": {},
   "outputs": [
    {
     "name": "stdout",
     "output_type": "stream",
     "text": [
      "1\n",
      "2\n",
      "3\n",
      "[0, 0, 0, 0, 0, 1, 0, 1]\n",
      "5\n",
      "[0, 0, 0, 0, 0, 0, 1, 1]\n"
     ]
    },
    {
     "data": {
      "text/plain": [
       "[0, 0, 0, 0, 0, 0, 1, 1]"
      ]
     },
     "execution_count": 48,
     "metadata": {},
     "output_type": "execute_result"
    }
   ],
   "source": [
    "sort_binary([0, 0, 0, 1, 0, 1, 0, 0])"
   ]
  },
  {
   "cell_type": "markdown",
   "metadata": {},
   "source": [
    "### Notes:\n",
    "- Double pointer method works in most of the use case if there is a some kind of order to the array\n",
    "- After the logic is done, make sure you move the pointer before the outer loop exits"
   ]
  }
 ],
 "metadata": {
  "kernelspec": {
   "display_name": "Python 3",
   "language": "python",
   "name": "python3"
  },
  "language_info": {
   "codemirror_mode": {
    "name": "ipython",
    "version": 3
   },
   "file_extension": ".py",
   "mimetype": "text/x-python",
   "name": "python",
   "nbconvert_exporter": "python",
   "pygments_lexer": "ipython3",
   "version": "3.7.4"
  }
 },
 "nbformat": 4,
 "nbformat_minor": 2
}
